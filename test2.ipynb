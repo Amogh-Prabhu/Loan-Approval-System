{
 "cells": [
  {
   "cell_type": "code",
   "execution_count": 2,
   "metadata": {},
   "outputs": [],
   "source": [
    "import numpy as np\n",
    "import pandas as pd\n",
    "import tensorflow as tf\n",
    "from tensorflow import keras"
   ]
  },
  {
   "cell_type": "code",
   "execution_count": 3,
   "metadata": {},
   "outputs": [],
   "source": [
    "normalMin = pd.read_csv(\"./data/normalmin.csv\")\n",
    "normalMax = pd.read_csv(\"./data/normalmax.csv\")"
   ]
  },
  {
   "cell_type": "code",
   "execution_count": 5,
   "metadata": {},
   "outputs": [
    {
     "name": "stdout",
     "output_type": "stream",
     "text": [
      "<class 'pandas.core.frame.DataFrame'>\n",
      "RangeIndex: 1 entries, 0 to 0\n",
      "Data columns (total 15 columns):\n",
      " #   Column                   Non-Null Count  Dtype  \n",
      "---  ------                   --------------  -----  \n",
      " 0   Unnamed: 0               1 non-null      int64  \n",
      " 1   ApplicantIncome          1 non-null      float64\n",
      " 2   CoapplicantIncome        1 non-null      float64\n",
      " 3   LoanAmount               1 non-null      float64\n",
      " 4   Loan_Amount_Term         1 non-null      float64\n",
      " 5   Credit_History           1 non-null      float64\n",
      " 6   Gender_Male              1 non-null      float64\n",
      " 7   Married_Yes              1 non-null      float64\n",
      " 8   Dependents_1             1 non-null      float64\n",
      " 9   Dependents_2             1 non-null      float64\n",
      " 10  Dependents_3+            1 non-null      float64\n",
      " 11  Education_Not Graduate   1 non-null      float64\n",
      " 12  Self_Employed_Yes        1 non-null      float64\n",
      " 13  Property_Area_Semiurban  1 non-null      float64\n",
      " 14  Property_Area_Urban      1 non-null      float64\n",
      "dtypes: float64(14), int64(1)\n",
      "memory usage: 248.0 bytes\n"
     ]
    }
   ],
   "source": [
    "normalMax.info()"
   ]
  }
 ],
 "metadata": {
  "kernelspec": {
   "display_name": "Python 3.8.8 ('base')",
   "language": "python",
   "name": "python3"
  },
  "language_info": {
   "codemirror_mode": {
    "name": "ipython",
    "version": 3
   },
   "file_extension": ".py",
   "mimetype": "text/x-python",
   "name": "python",
   "nbconvert_exporter": "python",
   "pygments_lexer": "ipython3",
   "version": "3.8.8 (default, Apr 13 2021, 15:08:03) [MSC v.1916 64 bit (AMD64)]"
  },
  "orig_nbformat": 4,
  "vscode": {
   "interpreter": {
    "hash": "b608202635104feae36025eb513a3c03bdd5b4c17215e376af82bf45edf2e020"
   }
  }
 },
 "nbformat": 4,
 "nbformat_minor": 2
}
